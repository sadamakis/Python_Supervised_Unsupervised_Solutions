{
 "cells": [
  {
   "cell_type": "code",
   "execution_count": null,
   "id": "5ec5aa0c-c8d2-4658-b11b-f2e37703b885",
   "metadata": {},
   "outputs": [],
   "source": [
    "# Make the notebook full screen\n",
    "from IPython.display import display, HTML\n",
    "display(HTML(\"<style>.container { width:100% !important; }</style>\"))"
   ]
  },
  {
   "cell_type": "code",
   "execution_count": null,
   "id": "22e4a306-c188-4322-b9dc-a1945462d1c1",
   "metadata": {},
   "outputs": [],
   "source": [
    "import os\n",
    "import pandas as pd\n",
    "import importlib\n",
    "import json\n",
    "import sys \n",
    "\n",
    "if sys.version_info[:3] < (3,4):\n",
    "    os.getcdw()\n",
    "    code_dir = os.path.dirname(os.getcdw())\n",
    "    project_dir = os.path.dirname(os.path.dirname(os.getcdw()))\n",
    "    data_path = os.path.join(code_dir, \"data\")\n",
    "    functions_path = os.path.join(project_dir, \"functions\")\n",
    "else: \n",
    "    from pathlib import Path\n",
    "    current_directory = os.path.dirname(Path.cwd())\n",
    "    code_dir = os.path.dirname(current_directory)\n",
    "    project_dir = os.path.join(code_dir, \"1_Fake_Data_Generation\")\n",
    "    data_path = os.path.join(code_dir, \"1_Fake_Data_Generation\\\\data\")\n",
    "    functions_path = os.path.join(code_dir, 'functions')\n",
    "#code_dir = r'D:\\BackUp - 151110\\Side_Projects\\Analytical_Solutions\\Sotiris_Solutions\\1_Fake_Data_Generation\\src'\n",
    "#project_dir = r'D:\\BackUp - 151110\\Side_Projects\\Analytical_Solutions\\Sotiris_Solutions\\1_Fake_Data_Generation'\n",
    "#data_path = r'D:\\BackUp - 151110\\Side_Projects\\Analytical_Solutions\\Sotiris_Solutions\\1_Fake_Data_Generation\\data'\n",
    "#functions_path = r'D:\\BackUp - 151110\\Side_Projects\\Analytical_Solutions\\Sotiris_Solutions\\functions'\n",
    "print(code_dir)\n",
    "print(project_dir)\n",
    "print(data_path)\n",
    "print(functions_path)"
   ]
  },
  {
   "cell_type": "code",
   "execution_count": null,
   "id": "d48c4c50-c0a9-4bb8-bbdd-3a3577db63e4",
   "metadata": {},
   "outputs": [],
   "source": [
    "# Set the path for the library\n",
    "import sys\n",
    "sys.path.insert(0, functions_path)"
   ]
  },
  {
   "cell_type": "code",
   "execution_count": null,
   "id": "ba69179b-c611-4e48-81b9-288704db5818",
   "metadata": {},
   "outputs": [],
   "source": [
    "import fake_data_generator as fake_data\n",
    "import data_processing"
   ]
  },
  {
   "cell_type": "markdown",
   "id": "e7eb9ff6-092c-4045-b77b-cbfdd806f4a9",
   "metadata": {},
   "source": [
    "# CUSTOMIZABLE STEP: Initialize the variables"
   ]
  },
  {
   "cell_type": "code",
   "execution_count": null,
   "id": "79160fd2-bbd1-4867-8e81-a5ce75059076",
   "metadata": {},
   "outputs": [],
   "source": [
    "# String. Set the input data\n",
    "table_name = 'fake_data.csv'"
   ]
  },
  {
   "cell_type": "markdown",
   "id": "d4090b9d-bdd8-4475-ac8b-92a5a1bff9a5",
   "metadata": {},
   "source": [
    "# Produce fake data"
   ]
  },
  {
   "cell_type": "code",
   "execution_count": null,
   "id": "3b1a45e6-7993-4a5a-bbec-56cb9662eff0",
   "metadata": {},
   "outputs": [],
   "source": [
    "df = fake_data.fake_data_generator(\n",
    "    target_type = 'b', #String. Define whether the target variable should be numeric (provide 'n') or binary (provide any other string). \n",
    "    target_1_probability = 0.20, #Float, takes values 0-1 Relevant if the target variable is binary: provide the percentage of the 1s in the. target variable. If the target is numeric, then you can leave this argument blank.\n",
    "    sample_size = 10000, #Integer. Number of records in the output dataset\n",
    "    predictors = 20, #Integer. Number of predictors in the output dataset.\n",
    "    pct_informative_predictors = 0.6, #Float Percentage of informative predictors - takes values between 0 and 1\n",
    "    bias_var = 0.01, #Float. The bias term in the underlying linear model, 0 means no bias. bias var=0 and noise_var=0 means perfect correlation, e.g. R 2-/Gini =\n",
    "    noise_var = 0.01, #Float. The standard deviation of the gaussian noise applied to the output, 0 means no noise applied to the output. \n",
    "    weight_var = 'random', # String. weight_variable information: '1' returns a vector with 19, random returns a vector with random weights. \n",
    "    seed = 1 #Integer. set the seed so that the fake dataset will be reproducible.\n",
    ")"
   ]
  },
  {
   "cell_type": "code",
   "execution_count": null,
   "id": "b6101d82-e7af-40fb-bcbe-b9ee68649ac1",
   "metadata": {},
   "outputs": [],
   "source": [
    "df.shape"
   ]
  },
  {
   "cell_type": "code",
   "execution_count": null,
   "id": "791f9c31-bf3d-48b2-80cd-e74571ca68be",
   "metadata": {
    "scrolled": true
   },
   "outputs": [],
   "source": [
    "df.head()"
   ]
  },
  {
   "cell_type": "markdown",
   "id": "407e4aa1-b5e3-4608-9c23-1c9b24ad87b8",
   "metadata": {},
   "source": [
    "# Create solution inputs for the numerical and categorical inputs"
   ]
  },
  {
   "cell_type": "code",
   "execution_count": null,
   "id": "f13d72cf-e59f-4c61-ba09-0e13fedf5760",
   "metadata": {},
   "outputs": [],
   "source": [
    "numeric_candidates = [col for col in df if col.startswith('random_var') or col.startswith('num') or col.startswith('outlier')]\n",
    "character_candidates = ['cat_3', 'cat_5', 'cat_20', 'cat_200']"
   ]
  },
  {
   "cell_type": "code",
   "execution_count": null,
   "id": "933fc58a-8083-49a0-b2c0-27c08d59b046",
   "metadata": {},
   "outputs": [],
   "source": [
    "print(json.dumps(numeric_candidates))\n",
    "print(json.dumps(character_candidates))"
   ]
  },
  {
   "cell_type": "markdown",
   "id": "b9464dd7-f48a-4ec3-bc6c-093620b51680",
   "metadata": {},
   "source": [
    "# Export dataset to csv file"
   ]
  },
  {
   "cell_type": "code",
   "execution_count": null,
   "id": "eed27737-c77d-4d98-a650-3e561be222ab",
   "metadata": {
    "scrolled": true
   },
   "outputs": [],
   "source": [
    "df.to_csv(os.path.join(data_path, 'output/', table_name), sep=',', index=False)"
   ]
  }
 ],
 "metadata": {
  "kernelspec": {
   "display_name": "Supervised Modeling Solution",
   "language": "python",
   "name": "supervised_modeling"
  },
  "language_info": {
   "codemirror_mode": {
    "name": "ipython",
    "version": 3
   },
   "file_extension": ".py",
   "mimetype": "text/x-python",
   "name": "python",
   "nbconvert_exporter": "python",
   "pygments_lexer": "ipython3",
   "version": "3.12.8"
  }
 },
 "nbformat": 4,
 "nbformat_minor": 5
}
