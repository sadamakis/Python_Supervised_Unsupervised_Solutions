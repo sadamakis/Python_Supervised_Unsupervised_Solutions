{
 "cells": [
  {
   "cell_type": "code",
   "execution_count": null,
   "id": "5ec5aa0c-c8d2-4658-b11b-f2e37703b885",
   "metadata": {},
   "outputs": [],
   "source": [
    "# Make the notebook full screen\n",
    "from IPython.display import display, HTML\n",
    "display(HTML(\"<style>.container { width:100% !important; }</style>\"))"
   ]
  },
  {
   "cell_type": "code",
   "execution_count": null,
   "id": "22e4a306-c188-4322-b9dc-a1945462d1c1",
   "metadata": {},
   "outputs": [],
   "source": [
    "import os\n",
    "import pandas as pd\n",
    "import importlib\n",
    "import json\n",
    "import sys \n",
    "\n",
    "if sys.version_info[:3] < (3,4):\n",
    "    os.getcdw()\n",
    "    code_dir = os.path.dirname(os.getcdw())\n",
    "    project_dir = os.path.dirname(os.path.dirname(os.getcdw()))\n",
    "    data_path = os.path.join(code_dir, \"data\")\n",
    "    functions_path = os.path.join(project_dir, \"functions\")\n",
    "else: \n",
    "    from pathlib import Path\n",
    "    current_directory = os.path.dirname(Path.cwd())\n",
    "    code_dir = os.path.dirname(current_directory)\n",
    "    project_dir = os.path.join(code_dir, \"1_Fake_Data_Generation\")\n",
    "    data_path = os.path.join(code_dir, \"1_Fake_Data_Generation\\\\data\")\n",
    "    functions_path = os.path.join(code_dir, 'functions')\n",
    "#code_dir = r'D:\\BackUp - 151110\\Side_Projects\\Analytical_Solutions\\Sotiris_Solutions\\1_Fake_Data_Generation\\src'\n",
    "#project_dir = r'D:\\BackUp - 151110\\Side_Projects\\Analytical_Solutions\\Sotiris_Solutions\\1_Fake_Data_Generation'\n",
    "#data_path = r'D:\\BackUp - 151110\\Side_Projects\\Analytical_Solutions\\Sotiris_Solutions\\1_Fake_Data_Generation\\data'\n",
    "#functions_path = r'D:\\BackUp - 151110\\Side_Projects\\Analytical_Solutions\\Sotiris_Solutions\\functions'\n",
    "print(code_dir)\n",
    "print(project_dir)\n",
    "print(data_path)\n",
    "print(functions_path)"
   ]
  },
  {
   "cell_type": "code",
   "execution_count": null,
   "id": "d48c4c50-c0a9-4bb8-bbdd-3a3577db63e4",
   "metadata": {},
   "outputs": [],
   "source": [
    "# Set the path for the library\n",
    "import sys\n",
    "sys.path.insert(0, functions_path)"
   ]
  },
  {
   "cell_type": "code",
   "execution_count": null,
   "id": "ba69179b-c611-4e48-81b9-288704db5818",
   "metadata": {},
   "outputs": [],
   "source": [
    "import fake_data_generator as fake_data"
   ]
  },
  {
   "cell_type": "markdown",
   "id": "e7eb9ff6-092c-4045-b77b-cbfdd806f4a9",
   "metadata": {},
   "source": [
    "# CUSTOMIZABLE STEP: Initialize the variables"
   ]
  },
  {
   "cell_type": "code",
   "execution_count": null,
   "id": "79160fd2-bbd1-4867-8e81-a5ce75059076",
   "metadata": {},
   "outputs": [],
   "source": [
    "# String. Set the input data\n",
    "table_name = 'fake_data.csv'"
   ]
  },
  {
   "cell_type": "markdown",
   "id": "d4090b9d-bdd8-4475-ac8b-92a5a1bff9a5",
   "metadata": {},
   "source": [
    "# Produce fake data"
   ]
  },
  {
   "cell_type": "code",
   "execution_count": null,
   "id": "3b1a45e6-7993-4a5a-bbec-56cb9662eff0",
   "metadata": {},
   "outputs": [],
   "source": [
    "df = fake_data.fake_data_generator(\n",
    "    target_type = 'b', #String. Define whether the target variable should be numeric (provide 'n') or binary (provide any other string). \n",
    "    target_1_probability = 0.20, #Float, takes values 0-1 Relevant if the target variable is binary: provide the percentage of the 1s in the. target variable. If the target is numeric, then you can leave this argument blank.\n",
    "    sample_size = 100000, #Integer. Number of records in the output dataset\n",
    "    predictors = 100, #Integer. Number of predictors in the output dataset.\n",
    "    n_informative_predictors = 40, #Integer. Percentage of informative predictors - takes values between 0 and 1\n",
    "    n_redundant = 15, # Integer. Applicable when target_type='b'. The number of redundant features. These features are generated as random linear combinations of the informative features.\n",
    "    n_repeated = 5, # Integer. Applicable when target_type='b'. The number of duplicated features, drawn randomly from the informative and the redundant features.\n",
    "    bias_var = 0.01, #Float. Applicable when target_type='n'. The bias term (constant in the regression equation) in the underlying linear model, 0 means no bias. bias var=0 and noise_var=0 means perfect correlation, e.g. R^2/Gini = 1\n",
    "    noise_var = 0.01, #Float. Applicable when target_type='n'. The standard deviation of the gaussian noise applied to the output, 0 means no noise applied to the output. \n",
    "    flip_y = 0.05, # Float. Applicable when target_type='b'. Noise level (percentage of randomly flipped labels). The fraction of samples whose class is assigned randomly. Larger values introduce noise in the labels and make the classification task harder. \n",
    "    class_sep = 0.8, # Float. Applicable when target_type='b'. Class separation (higher = more separable). The factor multiplying the hypercube size. Larger values spread out the clusters/classes and make the classification task easier.\n",
    "    weight_var = 'random', # String. weight_variable information: '1' returns a vector with 1, random returns a vector with random weights. \n",
    "    seed = 1 #Integer. set the seed so that the fake dataset will be reproducible.\n",
    ")"
   ]
  },
  {
   "cell_type": "code",
   "execution_count": null,
   "id": "b6101d82-e7af-40fb-bcbe-b9ee68649ac1",
   "metadata": {},
   "outputs": [],
   "source": [
    "df.shape"
   ]
  },
  {
   "cell_type": "code",
   "execution_count": null,
   "id": "791f9c31-bf3d-48b2-80cd-e74571ca68be",
   "metadata": {
    "scrolled": true
   },
   "outputs": [],
   "source": [
    "df.head()"
   ]
  },
  {
   "cell_type": "markdown",
   "id": "407e4aa1-b5e3-4608-9c23-1c9b24ad87b8",
   "metadata": {},
   "source": [
    "# Create solution inputs for the numerical and categorical inputs"
   ]
  },
  {
   "cell_type": "code",
   "execution_count": null,
   "id": "f13d72cf-e59f-4c61-ba09-0e13fedf5760",
   "metadata": {},
   "outputs": [],
   "source": [
    "numeric_candidates = [col for col in df if col.startswith('random_var') or col.startswith('num') or col.startswith('outlier')]\n",
    "character_candidates = ['cat_3', 'cat_5', 'cat_20', 'cat_200']"
   ]
  },
  {
   "cell_type": "code",
   "execution_count": null,
   "id": "933fc58a-8083-49a0-b2c0-27c08d59b046",
   "metadata": {},
   "outputs": [],
   "source": [
    "print(json.dumps(numeric_candidates))\n",
    "print(json.dumps(character_candidates))"
   ]
  },
  {
   "cell_type": "markdown",
   "id": "41e874b5-440e-4b0d-b542-c3d72f0114da",
   "metadata": {},
   "source": [
    "# Rename features"
   ]
  },
  {
   "cell_type": "code",
   "execution_count": null,
   "id": "01dc1e3d-5580-4ac1-b939-b735405830ea",
   "metadata": {},
   "outputs": [],
   "source": [
    "df.columns = [\n",
    "#Random_vars\n",
    "# Credit History & Loan Information\n",
    "\"Credit_score\",\n",
    "\"open_credit_accounts_cnt\",\n",
    "\"Length_credit_history\",\n",
    "\"credit_inquiries_6_months_cnt\",\n",
    "\"late_payments_30+_days_cnt\",\n",
    "\"late payments_90+_days_cnt\",\n",
    "\"credit_accounts_ever_delinquent_cnt\",\n",
    "\"charged-off accounts_cnt\",\n",
    "\"bankruptcies_cnt\",\n",
    "\"foreclosures_cnt\",\n",
    "\"settled accounts_cnt\",\n",
    "\"current installment loans_cnt\",\n",
    "\"revolving credit accounts_cnt\",\n",
    "\"accounts in collections_cnt\",\n",
    "\"Total outstanding loan balance\",\n",
    "\"Total available credit limit\",\n",
    "\"Total utilized credit (credit usage %)\",\n",
    "\"Number of credit card accounts\",\n",
    "\"Number of personal loans\",\n",
    "# Debt & Financial Obligations\n",
    "\"Debt-to-income (DTI) ratio\",\n",
    "\"Monthly housing expenses (rent/mortgage)\",\n",
    "\"Monthly utility bills\",\n",
    "\"Monthly transportation costs\",\n",
    "\"Monthly education expenses\",\n",
    "\"Monthly healthcare expenses\",\n",
    "\"Monthly childcare expenses\",\n",
    "\"Monthly discretionary spending\",\n",
    "\"Number of dependents in household\",\n",
    "\"Total number of outstanding loans\",\n",
    "\"Average monthly loan repayment amount\",\n",
    "\"Number of overdraft fees in last year\",\n",
    "\"Number of bounced checks in last year\",\n",
    "\"Credit card balances\",\n",
    "\"Maximum credit limit utilization in the last year\",\n",
    "\"Loan-to-value (LTV) ratio for mortgages\",\n",
    "\"Number of credit cards near limit\",\n",
    "\"Number of installment loans closed\",\n",
    "\"Number of revolving accounts closed\",\n",
    "\"Average credit utilization over the last 12 months\",\n",
    "# Banking & Transactional Behavior\n",
    "\"Number of active bank accounts\",\n",
    "\"Number of savings accounts\",\n",
    "\"Number of checking accounts\",\n",
    "\"Number of bounced checks in the last 12 months\",\n",
    "\"Average balance in checking account\",\n",
    "\"Average balance in savings account\",\n",
    "\"Frequency of ATM withdrawals\",\n",
    "\"Total monthly bank deposits\",\n",
    "\"Total monthly bank withdrawals\",\n",
    "\"Number of direct deposits per month\",\n",
    "\"Number of cash deposits per month\",\n",
    "\"Number of online transactions per month\",\n",
    "\"Number of international transactions\",\n",
    "\"Number of wire transfers\",\n",
    "\"Frequency of late bill payments\",\n",
    "\"Number of auto-debits declined\",\n",
    "\"Percentage of salary deposited in a bank\",\n",
    "\"Amount deposited in a bank\",\n",
    "\"Number of peer-to-peer (P2P) transactions\",\n",
    "\"Number of transactions flagged as suspicious\",\n",
    "# Behavioral & Lifestyle Indicators\n",
    "\"Number of times salary was delayed in the last year\",\n",
    "\"Number of high-value purchases (e.g. $500+)\",\n",
    "\"Monthly spending on luxury goods\",\n",
    "\"Number of gambling-related transactions\",\n",
    "\"Number of transactions for alcohol/tobacco\",\n",
    "\"Number of online subscriptions (Netflix, Spotify, etc.)\",\n",
    "\"Number of travel-related purchases per year\",\n",
    "\"Number of payday loan applications\",\n",
    "\"Number of transactions at pawn shops\",\n",
    "\"Number of revolving credit accounts\",\n",
    "\"Number of unpaid parking tickets or fines\",\n",
    "\"Frequency of ATM withdrawals in different cities\",\n",
    "\"Percentage of income spent on dining out\",\n",
    "\"Number of gym or club memberships\",\n",
    "\"Number of current installment loans\",\n",
    "\"Number of loan refinancing applications\",\n",
    "\"Number of legal disputes (divorce, lawsuits)\",\n",
    "\"Number of late tax filings\",\n",
    "\"Number of vehicle repossessions\",\n",
    "\"Number of luxury car lease applications\",\n",
    "# Macroeconomic & External Factors\n",
    "\"Local unemployment rate\",\n",
    "\"Inflation rate at the time of loan application\",\n",
    "\"Stock market performance\",\n",
    "\"Housing market trend in applicants area\",\n",
    "\"Average credit risk of applicants region\",\n",
    "\"Industry-specific job stability index\",\n",
    "\"National economic growth rate (GDP)\",\n",
    "\"Average interest rate at the time of loan application\",\n",
    "\"Local crime rate in applicants area\",\n",
    "\"Average salary growth trend in applicants industry\",\n",
    "\"Bank lending policy changes\",\n",
    "\"Number of layoffs in applicants industry\",\n",
    "\"Number of open credit accounts ever\",\n",
    "\"Risk classification of applicants employer\",\n",
    "\"Political stability index of applicants country\",\n",
    "\"Average credit delinquency rate in applicants city\",\n",
    "\"Cost of living index in applicants region\",\n",
    "# Personal & Demographic Information\n",
    "\"dependents_cnt\",\n",
    "\"Years_current_job\",\n",
    "\"Home_value\",\n",
    "\"Years_current_residence\",\n",
    "################################################################################\n",
    "# Cat_vars\n",
    "\"Residence_type\",\n",
    "\"Marital_status\",\n",
    "\"Occupation\",\n",
    "\"ZIP_code\",\n",
    "################################################################################\n",
    "# Num missing\n",
    "\"Years_current_industry\",\n",
    "\"Company bankruptcy risk (if self-employed)\",\n",
    "\"Number of natural disasters in the last year (for affected regions)\",\n",
    "\"Country credit rating (if international applicant)\",\n",
    "################################################################################\n",
    "# Outlier vars\n",
    "\"Monthly_income\",\n",
    "\"Annual_income\", \n",
    "################################################################################\n",
    "# Remaining vars\n",
    "'weight_variable', \n",
    "'sample variable', \n",
    "'target', \n",
    "'amount']"
   ]
  },
  {
   "cell_type": "code",
   "execution_count": null,
   "id": "20f32c41-7bd8-4da4-a058-94114c22fcd7",
   "metadata": {},
   "outputs": [],
   "source": [
    "df.columns"
   ]
  },
  {
   "cell_type": "code",
   "execution_count": null,
   "id": "d082e6bb-0efb-4a9d-82b7-138299965ff9",
   "metadata": {},
   "outputs": [],
   "source": [
    "import pandas as pd\n",
    "pd.set_option('display.max_rows', None)  # Set max rows to display None (all rows)\n",
    "pd.DataFrame(df.columns)"
   ]
  },
  {
   "cell_type": "markdown",
   "id": "b9464dd7-f48a-4ec3-bc6c-093620b51680",
   "metadata": {},
   "source": [
    "# Export dataset to csv file"
   ]
  },
  {
   "cell_type": "code",
   "execution_count": null,
   "id": "eed27737-c77d-4d98-a650-3e561be222ab",
   "metadata": {
    "scrolled": true
   },
   "outputs": [],
   "source": [
    "df.to_csv(os.path.join(data_path, 'output/', table_name), sep=',', index=False)"
   ]
  }
 ],
 "metadata": {
  "kernelspec": {
   "display_name": "Supervised Modeling Solution",
   "language": "python",
   "name": "supervised_modeling"
  },
  "language_info": {
   "codemirror_mode": {
    "name": "ipython",
    "version": 3
   },
   "file_extension": ".py",
   "mimetype": "text/x-python",
   "name": "python",
   "nbconvert_exporter": "python",
   "pygments_lexer": "ipython3",
   "version": "3.13.1"
  }
 },
 "nbformat": 4,
 "nbformat_minor": 5
}
